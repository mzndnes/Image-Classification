{
  "nbformat": 4,
  "nbformat_minor": 0,
  "metadata": {
    "colab": {
      "name": "1501-rps-classification.ipynb",
      "provenance": [],
      "collapsed_sections": []
    },
    "kernelspec": {
      "name": "python3",
      "display_name": "Python 3"
    }
  },
  "cells": [
    {
      "cell_type": "code",
      "metadata": {
        "id": "3zzBM6bbjNg0",
        "colab_type": "code",
        "colab": {}
      },
      "source": [
        "import os\n",
        "import time\n",
        "import numpy as np\n",
        "import cv2\n",
        "import tensorflow as tf\n",
        "import keras_preprocessing\n",
        "from keras_preprocessing import image\n",
        "import matplotlib.pyplot as plt\n",
        "from keras.utils import to_categorical"
      ],
      "execution_count": 0,
      "outputs": []
    },
    {
      "cell_type": "code",
      "metadata": {
        "id": "ksVjivlcktWx",
        "colab_type": "code",
        "colab": {}
      },
      "source": [
        "def read_img(tr_t):\n",
        "    curpath = os.path.abspath(os.getcwd())\n",
        "    imgpath=os.path.join(curpath,'drive','My Drive','images')    \n",
        "    #get directory of images to be read\n",
        "    img_dir = os.path.join(imgpath,'rps-'+  tr_t)\n",
        "    #get list of sub directories\n",
        "    dirs = os.listdir(img_dir)\n",
        "\n",
        "    x_img=[]\n",
        "    y_img=[]\n",
        "\n",
        "    cl = 0\n",
        "    for dr in dirs:\n",
        "\n",
        "        fl_dr = os.path.join(img_dir, dr)\n",
        "        files = os.listdir(fl_dr)\n",
        "\n",
        "        for fl in files:\n",
        "            fl_nm = os.path.join(fl_dr, fl)\n",
        "            img = cv2.imread(fl_nm, 1)\n",
        "            img = cv2.resize(img, (150, 150))\n",
        "            # print(img.shape)\n",
        "            x_img.append(img)\n",
        "            y_img.append(cl)\n",
        "\n",
        "        cl += 1\n",
        "\n",
        "    #return the array of images and corresponding classes\n",
        "    return np.array(x_img),np.array(y_img)\n"
      ],
      "execution_count": 0,
      "outputs": []
    },
    {
      "cell_type": "code",
      "metadata": {
        "id": "n2apulmgqKx4",
        "colab_type": "code",
        "colab": {}
      },
      "source": [
        "dr='train'\n",
        "x_train,y_train = read_img(dr)\n",
        "y_train= to_categorical(y_train,3)\n",
        "\n",
        "dr = 'test'\n",
        "x_test,y_test = read_img(dr)\n",
        "y_test= to_categorical(y_test,3)\n"
      ],
      "execution_count": 0,
      "outputs": []
    },
    {
      "cell_type": "code",
      "metadata": {
        "id": "A3h6NhqdF5Ir",
        "colab_type": "code",
        "outputId": "bd825a21-e2df-4175-cfbb-3b54abb9cf16",
        "colab": {
          "base_uri": "https://localhost:8080/",
          "height": 561
        }
      },
      "source": [
        "model = tf.keras.models.Sequential([\n",
        "# Note the input shape is the desired size of the image 150x150 with 3 bytes color\n",
        "# This is the first convolution\n",
        "tf.keras.layers.Conv2D(64, (3,3), activation='relu', input_shape=(150, 150, 3)),\n",
        "tf.keras.layers.MaxPooling2D(2, 2),\n",
        "# The second convolution\n",
        "tf.keras.layers.Conv2D(64, (3,3), activation='relu'),\n",
        "tf.keras.layers.MaxPooling2D(2,2),\n",
        "# The third convolution\n",
        "tf.keras.layers.Conv2D(128, (3,3), activation='relu'),\n",
        "tf.keras.layers.MaxPooling2D(2,2),\n",
        "# The fourth convolution\n",
        "tf.keras.layers.Conv2D(128, (3,3), activation='relu'),\n",
        "tf.keras.layers.MaxPooling2D(2,2),\n",
        "# Flatten the results to feed into a DNN\n",
        "tf.keras.layers.Flatten(),\n",
        "tf.keras.layers.Dropout(0.5),\n",
        "# 512 neuron hidden layer\n",
        "tf.keras.layers.Dense(512, activation='relu'),\n",
        "tf.keras.layers.Dense(3, activation='softmax')\n",
        "])\n",
        "model.summary()"
      ],
      "execution_count": 0,
      "outputs": [
        {
          "output_type": "stream",
          "text": [
            "Model: \"sequential_5\"\n",
            "_________________________________________________________________\n",
            "Layer (type)                 Output Shape              Param #   \n",
            "=================================================================\n",
            "conv2d_20 (Conv2D)           (None, 148, 148, 64)      1792      \n",
            "_________________________________________________________________\n",
            "max_pooling2d_20 (MaxPooling (None, 74, 74, 64)        0         \n",
            "_________________________________________________________________\n",
            "conv2d_21 (Conv2D)           (None, 72, 72, 64)        36928     \n",
            "_________________________________________________________________\n",
            "max_pooling2d_21 (MaxPooling (None, 36, 36, 64)        0         \n",
            "_________________________________________________________________\n",
            "conv2d_22 (Conv2D)           (None, 34, 34, 128)       73856     \n",
            "_________________________________________________________________\n",
            "max_pooling2d_22 (MaxPooling (None, 17, 17, 128)       0         \n",
            "_________________________________________________________________\n",
            "conv2d_23 (Conv2D)           (None, 15, 15, 128)       147584    \n",
            "_________________________________________________________________\n",
            "max_pooling2d_23 (MaxPooling (None, 7, 7, 128)         0         \n",
            "_________________________________________________________________\n",
            "flatten_5 (Flatten)          (None, 6272)              0         \n",
            "_________________________________________________________________\n",
            "dropout_5 (Dropout)          (None, 6272)              0         \n",
            "_________________________________________________________________\n",
            "dense_10 (Dense)             (None, 512)               3211776   \n",
            "_________________________________________________________________\n",
            "dense_11 (Dense)             (None, 3)                 1539      \n",
            "=================================================================\n",
            "Total params: 3,473,475\n",
            "Trainable params: 3,473,475\n",
            "Non-trainable params: 0\n",
            "_________________________________________________________________\n"
          ],
          "name": "stdout"
        }
      ]
    },
    {
      "cell_type": "code",
      "metadata": {
        "id": "DfwSGIhGF7V0",
        "colab_type": "code",
        "outputId": "e1a0dcd7-2f6e-46c5-9587-9d6623a0e0fd",
        "colab": {
          "base_uri": "https://localhost:8080/",
          "height": 346
        }
      },
      "source": [
        "model.compile(loss = 'categorical_crossentropy', optimizer='rmsprop', metrics=['accuracy'])\n",
        "\n",
        "# his = model.fit(x_train, y_train,epochs=25)\n",
        "his = model.fit(x_train, y_train,validation_split=0.2,epochs=25,verbose=0)\n",
        "train_acc =his.history['accuracy']\n",
        "\n",
        "val_acc = his.history['val_accuracy']\n",
        "epochs = range(len(train_acc))\n",
        "\n",
        "plt.plot(epochs, train_acc, 'r', label='Training accuracy')\n",
        "plt.plot(epochs, val_acc, 'b', label='Validation accuracy')\n",
        "plt.title('Training and validation accuracy')\n",
        "plt.xlabel('Epochs')\n",
        "plt.ylabel('Accuracy')\n",
        "plt.legend(loc=0)\n",
        "plt.figure()\n",
        "\n",
        "\n",
        "plt.show()\n",
        "\n",
        "test_loss, test_accuracy = model.evaluate(x_test, y_test)\n",
        "print('Test loss: {}, Test accuracy: {}'.format(test_loss, test_accuracy * 100))\n",
        "\n",
        "\n",
        "\n",
        "\n"
      ],
      "execution_count": 0,
      "outputs": [
        {
          "output_type": "display_data",
          "data": {
            "image/png": "[encoded data removed]",
            "text/plain": [
              "<Figure size 432x288 with 1 Axes>"
            ]
          },
          "metadata": {
            "tags": [],
            "needs_background": "light"
          }
        },
        {
          "output_type": "display_data",
          "data": {
            "text/plain": [
              "<Figure size 432x288 with 0 Axes>"
            ]
          },
          "metadata": {
            "tags": []
          }
        },
        {
          "output_type": "stream",
          "text": [
            "10/10 [==============================] - 4s 439ms/step - loss: 29.4514 - accuracy: 0.7500\n",
            "Test loss: 29.45140266418457, Test accuracy: 75.0\n"
          ],
          "name": "stdout"
        }
      ]
    }
  ]
}