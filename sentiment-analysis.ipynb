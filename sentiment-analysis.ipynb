{
  "nbformat": 4,
  "nbformat_minor": 0,
  "metadata": {
    "colab": {
      "name": "1600-sentiment-analysis.ipynb",
      "provenance": []
    },
    "kernelspec": {
      "name": "python3",
      "display_name": "Python 3"
    }
  },
  "cells": [
    {
      "cell_type": "code",
      "metadata": {
        "id": "GYxvccBVApCq",
        "colab_type": "code",
        "colab": {}
      },
      "source": [
        "import json\n",
        "import tensorflow as tf\n",
        "import os\n",
        "from tensorflow.keras.preprocessing.text import Tokenizer\n",
        "from tensorflow.keras.preprocessing.sequence import pad_sequences"
      ],
      "execution_count": 0,
      "outputs": []
    },
    {
      "cell_type": "code",
      "metadata": {
        "id": "WAGCcxilJ_L5",
        "colab_type": "code",
        "colab": {}
      },
      "source": [
        "\n",
        "\n",
        "curpath = os.path.abspath(os.getcwd())\n",
        "jsonfile=os.path.join(curpath,'drive','My Drive','data','sarcasm.json')\n",
        "\n",
        "with open(jsonfile, 'r') as f:\n",
        "    datastore = json.load(f)\n",
        "\n",
        "\n",
        "sentences = []\n",
        "labels = []\n",
        "\n",
        "for item in datastore:\n",
        "    sentences.append(item['headline'])\n",
        "    labels.append(item['is_sarcastic'])"
      ],
      "execution_count": 0,
      "outputs": []
    },
    {
      "cell_type": "code",
      "metadata": {
        "id": "EYhhmBSvK2Lx",
        "colab_type": "code",
        "colab": {}
      },
      "source": [
        "train_sz=int(len(sentences)*0.8)\n",
        "train_sentences = sentences[0:train_sz]\n",
        "test_sentences = sentences[train_sz:]\n",
        "train_labels = labels[0:train_sz]\n",
        "test_labels = labels[train_sz:]"
      ],
      "execution_count": 0,
      "outputs": []
    },
    {
      "cell_type": "code",
      "metadata": {
        "id": "QV72Xg3RORqz",
        "colab_type": "code",
        "colab": {}
      },
      "source": [
        "voc_sz=10000\n",
        "max_len=100\n",
        "emb_dim=16"
      ],
      "execution_count": 0,
      "outputs": []
    },
    {
      "cell_type": "code",
      "metadata": {
        "id": "BE2A6k_TK-VQ",
        "colab_type": "code",
        "colab": {}
      },
      "source": [
        "tokenizer = Tokenizer(num_words=voc_sz, oov_token='<OOV>')\n",
        "tokenizer.fit_on_texts(train_sentences)\n",
        "\n",
        "word_index = tokenizer.word_index\n",
        "\n",
        "train_sequences = tokenizer.texts_to_sequences(train_sentences)\n",
        "train_padded = pad_sequences(train_sequences, maxlen=max_len, padding='post', truncating='post')\n",
        "\n",
        "test_sequences = tokenizer.texts_to_sequences(test_sentences)\n",
        "test_padded = pad_sequences(test_sequences, maxlen=max_len, padding='post', truncating='post')"
      ],
      "execution_count": 0,
      "outputs": []
    },
    {
      "cell_type": "code",
      "metadata": {
        "id": "cCrJEfoINSDo",
        "colab_type": "code",
        "colab": {}
      },
      "source": [
        "# Convert everything to numpy array\n",
        "import numpy as np\n",
        "train_padded = np.array(train_padded)\n",
        "train_labels = np.array(train_labels)\n",
        "test_padded = np.array(test_padded)\n",
        "test_labels = np.array(test_labels)"
      ],
      "execution_count": 0,
      "outputs": []
    },
    {
      "cell_type": "code",
      "metadata": {
        "id": "YlOgRTkINqwE",
        "colab_type": "code",
        "colab": {
          "base_uri": "https://localhost:8080/",
          "height": 289
        },
        "outputId": "709cec83-5de7-451a-955f-47742700b4c0"
      },
      "source": [
        "model = tf.keras.Sequential([\n",
        "    tf.keras.layers.Embedding(voc_sz, emb_dim, input_length=max_len),\n",
        "    tf.keras.layers.GlobalAveragePooling1D(),\n",
        "    tf.keras.layers.Dense(24, activation='relu'),\n",
        "    tf.keras.layers.Dense(1, activation='sigmoid')\n",
        "])\n",
        "model.summary()\n"
      ],
      "execution_count": 21,
      "outputs": [
        {
          "output_type": "stream",
          "text": [
            "Model: \"sequential_1\"\n",
            "_________________________________________________________________\n",
            "Layer (type)                 Output Shape              Param #   \n",
            "=================================================================\n",
            "embedding_1 (Embedding)      (None, 100, 16)           160000    \n",
            "_________________________________________________________________\n",
            "global_average_pooling1d_1 ( (None, 16)                0         \n",
            "_________________________________________________________________\n",
            "dense_2 (Dense)              (None, 24)                408       \n",
            "_________________________________________________________________\n",
            "dense_3 (Dense)              (None, 1)                 25        \n",
            "=================================================================\n",
            "Total params: 160,433\n",
            "Trainable params: 160,433\n",
            "Non-trainable params: 0\n",
            "_________________________________________________________________\n"
          ],
          "name": "stdout"
        }
      ]
    },
    {
      "cell_type": "code",
      "metadata": {
        "id": "MMZpf2-HPFey",
        "colab_type": "code",
        "colab": {
          "base_uri": "https://localhost:8080/",
          "height": 867
        },
        "outputId": "2249c7d9-82ed-435b-ca77-e730be908e44"
      },
      "source": [
        "model.compile(loss='binary_crossentropy',optimizer='adam',metrics=['accuracy'])\n",
        "his = model.fit(train_padded, train_labels, epochs=25, validation_data=(test_padded, test_labels), verbose=2)"
      ],
      "execution_count": 22,
      "outputs": [
        {
          "output_type": "stream",
          "text": [
            "Epoch 1/25\n",
            "668/668 - 2s - loss: 0.6596 - accuracy: 0.6018 - val_loss: 0.5613 - val_accuracy: 0.7615\n",
            "Epoch 2/25\n",
            "668/668 - 2s - loss: 0.4239 - accuracy: 0.8370 - val_loss: 0.3917 - val_accuracy: 0.8285\n",
            "Epoch 3/25\n",
            "668/668 - 2s - loss: 0.3111 - accuracy: 0.8756 - val_loss: 0.3519 - val_accuracy: 0.8523\n",
            "Epoch 4/25\n",
            "668/668 - 2s - loss: 0.2600 - accuracy: 0.8984 - val_loss: 0.3455 - val_accuracy: 0.8531\n",
            "Epoch 5/25\n",
            "668/668 - 2s - loss: 0.2254 - accuracy: 0.9129 - val_loss: 0.3543 - val_accuracy: 0.8534\n",
            "Epoch 6/25\n",
            "668/668 - 2s - loss: 0.2011 - accuracy: 0.9225 - val_loss: 0.3565 - val_accuracy: 0.8510\n",
            "Epoch 7/25\n",
            "668/668 - 2s - loss: 0.1797 - accuracy: 0.9333 - val_loss: 0.3715 - val_accuracy: 0.8501\n",
            "Epoch 8/25\n",
            "668/668 - 2s - loss: 0.1623 - accuracy: 0.9398 - val_loss: 0.3786 - val_accuracy: 0.8508\n",
            "Epoch 9/25\n",
            "668/668 - 2s - loss: 0.1472 - accuracy: 0.9466 - val_loss: 0.3964 - val_accuracy: 0.8502\n",
            "Epoch 10/25\n",
            "668/668 - 2s - loss: 0.1342 - accuracy: 0.9513 - val_loss: 0.4358 - val_accuracy: 0.8405\n",
            "Epoch 11/25\n",
            "668/668 - 2s - loss: 0.1224 - accuracy: 0.9573 - val_loss: 0.4407 - val_accuracy: 0.8444\n",
            "Epoch 12/25\n",
            "668/668 - 2s - loss: 0.1141 - accuracy: 0.9591 - val_loss: 0.4617 - val_accuracy: 0.8456\n",
            "Epoch 13/25\n",
            "668/668 - 2s - loss: 0.1042 - accuracy: 0.9640 - val_loss: 0.4883 - val_accuracy: 0.8422\n",
            "Epoch 14/25\n",
            "668/668 - 2s - loss: 0.0963 - accuracy: 0.9676 - val_loss: 0.5212 - val_accuracy: 0.8377\n",
            "Epoch 15/25\n",
            "668/668 - 2s - loss: 0.0903 - accuracy: 0.9685 - val_loss: 0.5455 - val_accuracy: 0.8396\n",
            "Epoch 16/25\n",
            "668/668 - 2s - loss: 0.0830 - accuracy: 0.9730 - val_loss: 0.5707 - val_accuracy: 0.8366\n",
            "Epoch 17/25\n",
            "668/668 - 2s - loss: 0.0772 - accuracy: 0.9755 - val_loss: 0.6053 - val_accuracy: 0.8345\n",
            "Epoch 18/25\n",
            "668/668 - 2s - loss: 0.0722 - accuracy: 0.9765 - val_loss: 0.6614 - val_accuracy: 0.8285\n",
            "Epoch 19/25\n",
            "668/668 - 2s - loss: 0.0658 - accuracy: 0.9789 - val_loss: 0.6873 - val_accuracy: 0.8190\n",
            "Epoch 20/25\n",
            "668/668 - 2s - loss: 0.0621 - accuracy: 0.9803 - val_loss: 0.7200 - val_accuracy: 0.8291\n",
            "Epoch 21/25\n",
            "668/668 - 2s - loss: 0.0599 - accuracy: 0.9808 - val_loss: 0.7611 - val_accuracy: 0.8268\n",
            "Epoch 22/25\n",
            "668/668 - 2s - loss: 0.0532 - accuracy: 0.9839 - val_loss: 0.7762 - val_accuracy: 0.8164\n",
            "Epoch 23/25\n",
            "668/668 - 2s - loss: 0.0505 - accuracy: 0.9841 - val_loss: 0.8679 - val_accuracy: 0.8194\n",
            "Epoch 24/25\n",
            "668/668 - 2s - loss: 0.0478 - accuracy: 0.9843 - val_loss: 0.8625 - val_accuracy: 0.8210\n",
            "Epoch 25/25\n",
            "668/668 - 2s - loss: 0.0433 - accuracy: 0.9873 - val_loss: 0.8843 - val_accuracy: 0.8207\n"
          ],
          "name": "stdout"
        }
      ]
    },
    {
      "cell_type": "code",
      "metadata": {
        "id": "JqgBHoPiP-zp",
        "colab_type": "code",
        "colab": {
          "base_uri": "https://localhost:8080/",
          "height": 295
        },
        "outputId": "6d1e0a5c-48c8-476f-8647-383625b4c437"
      },
      "source": [
        "import matplotlib.pyplot as plt\n",
        "train_acc=his.history['accuracy']\n",
        "test_acc=his.history['val_accuracy']\n",
        "epochs = range(len(train_acc))\n",
        "\n",
        "plt.plot(epochs,train_acc,'r',label='Training accuracy')\n",
        "plt.plot(epochs,test_acc,'b',label='Validation accuracy')\n",
        "plt.xlabel(\"Epochs\")\n",
        "plt.ylabel('Accuracy')\n",
        "plt.title('Training and Validation Accuracy')\n",
        "plt.legend()\n",
        "plt.show()"
      ],
      "execution_count": 23,
      "outputs": [
        {
          "output_type": "display_data",
          "data": {
            "image/png": "[encoded data removed]",
            "text/plain": [
              "<Figure size 432x288 with 1 Axes>"
            ]
          },
          "metadata": {
            "tags": [],
            "needs_background": "light"
          }
        }
      ]
    },
    {
      "cell_type": "code",
      "metadata": {
        "id": "h--QTOTrRIiI",
        "colab_type": "code",
        "colab": {
          "base_uri": "https://localhost:8080/",
          "height": 51
        },
        "outputId": "c568ce76-07ae-477a-e675-cdd485e56769"
      },
      "source": [
        "sentence = [\"granny starting to fear spiders in the garden might be real\", \"game of thrones season finale showing this sunday night\"]\n",
        "sequences = tokenizer.texts_to_sequences(sentence)\n",
        "padded = pad_sequences(sequences, maxlen=max_len, padding='post', truncating='post')\n",
        "print(model.predict(padded))"
      ],
      "execution_count": 25,
      "outputs": [
        {
          "output_type": "stream",
          "text": [
            "[[0.97456586]\n",
            " [0.00324632]]\n"
          ],
          "name": "stdout"
        }
      ]
    }
  ]
}