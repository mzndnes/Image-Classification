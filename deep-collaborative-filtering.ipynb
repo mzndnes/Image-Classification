{
  "nbformat": 4,
  "nbformat_minor": 0,
  "metadata": {
    "colab": {
      "name": "1403-deep-collaborative-filtering2.ipynb",
      "provenance": [],
      "collapsed_sections": []
    },
    "kernelspec": {
      "name": "python3",
      "display_name": "Python 3"
    }
  },
  "cells": [
    {
      "cell_type": "code",
      "metadata": {
        "id": "U9a2v7jIwmqK",
        "colab_type": "code",
        "colab": {}
      },
      "source": [
        "import pandas as pd\n",
        "import numpy as np\n",
        "from sklearn.model_selection import train_test_split\n",
        "from keras.layers import Input, Embedding, Flatten, Dot, Dense,Dropout\n",
        "from keras.models import Model\n",
        "from keras.models import load_model\n",
        "import os\n",
        "import matplotlib.pyplot as plt\n",
        "from keras.optimizers import Adam"
      ],
      "execution_count": null,
      "outputs": []
    },
    {
      "cell_type": "code",
      "metadata": {
        "id": "amdHUj56xeL7",
        "colab_type": "code",
        "colab": {
          "base_uri": "https://localhost:8080/",
          "height": 204
        },
        "outputId": "514c08dc-b063-48a7-dc85-0b232ac78d72"
      },
      "source": [
        "ratings=pd.read_csv('./drive/My Drive/data/ratings.csv')\n",
        "mov=pd.read_csv('./drive/My Drive/data/movies.csv')\n",
        "ratings=ratings.drop(['timestamp'],axis=1)\n",
        "ratings=ratings.head(10000)\n",
        "ratings.head()"
      ],
      "execution_count": null,
      "outputs": [
        {
          "output_type": "execute_result",
          "data": {
            "text/html": [
              "<div>\n",
              "<style scoped>\n",
              "    .dataframe tbody tr th:only-of-type {\n",
              "        vertical-align: middle;\n",
              "    }\n",
              "\n",
              "    .dataframe tbody tr th {\n",
              "        vertical-align: top;\n",
              "    }\n",
              "\n",
              "    .dataframe thead th {\n",
              "        text-align: right;\n",
              "    }\n",
              "</style>\n",
              "<table border=\"1\" class=\"dataframe\">\n",
              "  <thead>\n",
              "    <tr style=\"text-align: right;\">\n",
              "      <th></th>\n",
              "      <th>userId</th>\n",
              "      <th>movieId</th>\n",
              "      <th>rating</th>\n",
              "    </tr>\n",
              "  </thead>\n",
              "  <tbody>\n",
              "    <tr>\n",
              "      <th>0</th>\n",
              "      <td>1</td>\n",
              "      <td>1</td>\n",
              "      <td>4.0</td>\n",
              "    </tr>\n",
              "    <tr>\n",
              "      <th>1</th>\n",
              "      <td>1</td>\n",
              "      <td>3</td>\n",
              "      <td>4.0</td>\n",
              "    </tr>\n",
              "    <tr>\n",
              "      <th>2</th>\n",
              "      <td>1</td>\n",
              "      <td>6</td>\n",
              "      <td>4.0</td>\n",
              "    </tr>\n",
              "    <tr>\n",
              "      <th>3</th>\n",
              "      <td>1</td>\n",
              "      <td>47</td>\n",
              "      <td>5.0</td>\n",
              "    </tr>\n",
              "    <tr>\n",
              "      <th>4</th>\n",
              "      <td>1</td>\n",
              "      <td>50</td>\n",
              "      <td>5.0</td>\n",
              "    </tr>\n",
              "  </tbody>\n",
              "</table>\n",
              "</div>"
            ],
            "text/plain": [
              "   userId  movieId  rating\n",
              "0       1        1     4.0\n",
              "1       1        3     4.0\n",
              "2       1        6     4.0\n",
              "3       1       47     5.0\n",
              "4       1       50     5.0"
            ]
          },
          "metadata": {
            "tags": []
          },
          "execution_count": 3
        }
      ]
    },
    {
      "cell_type": "code",
      "metadata": {
        "id": "-kXIeTzpyP4V",
        "colab_type": "code",
        "colab": {
          "base_uri": "https://localhost:8080/",
          "height": 51
        },
        "outputId": "0dc0e375-0672-4e9f-e12f-abb625d9e892"
      },
      "source": [
        "# users_num=len(ratings.userId.unique())\n",
        "# movies_num=len(ratings.movieId.unique())\n",
        "movies_num=max(ratings.movieId)\n",
        "users_num=max(ratings.userId)\n",
        "print(users_num)\n",
        "print(movies_num)\n",
        "train, test = train_test_split(ratings, test_size=0.2, random_state=0)"
      ],
      "execution_count": null,
      "outputs": [
        {
          "output_type": "stream",
          "text": [
            "66\n",
            "190183\n"
          ],
          "name": "stdout"
        }
      ]
    },
    {
      "cell_type": "code",
      "metadata": {
        "id": "GKp8-i7nPUwp",
        "colab_type": "code",
        "colab": {}
      },
      "source": [
        "# creating movies embedding\n",
        "mov_input = Input(shape=(1,), name=\"movie-input\")\n",
        "mov_emb = Embedding(movies_num+1, 5,name=\"movie-embedding\")(mov_input)\n",
        "# mov_vec = Flatten(name=\"Flatten-movie\")(mov_emb)\n",
        "\n",
        "\n",
        "# creating user embedding\n",
        "user_input = Input(shape=(1,), name=\"user-input\")\n",
        "user_emb= Embedding(users_num+1, 5, name=\"user-embedding\")(user_input)\n",
        "# user_vec = Flatten(name=\"flatten-users\")(user_emb)\n",
        "\n",
        "# performing dot product and creating model\n",
        "out = Dot(name=\"Dot-Product\", axes=1)([mov_emb, user_emb])\n",
        "out=Flatten()(out)\n",
        "out=Dropout(0.3)(out)\n",
        "out=Dense(70,activation='relu')(out)\n",
        "out=Dropout(0.75)(out)\n",
        "out=Dense(1)(out)\n",
        "model = Model([mov_input, user_input], out)\n",
        "model.compile(Adam(0.001), loss='mean_squared_error')"
      ],
      "execution_count": null,
      "outputs": []
    },
    {
      "cell_type": "code",
      "metadata": {
        "id": "nBR-9vG0n6od",
        "colab_type": "code",
        "colab": {
          "base_uri": "https://localhost:8080/",
          "height": 503
        },
        "outputId": "9149262c-ce74-42fd-d110-a1b86e6a9d3a"
      },
      "source": [
        "if os.path.exists('recommender_model.h5'):\n",
        "    model = load_model('recommender_model.h5')\n",
        "else:\n",
        "    his = model.fit([train.movieId, train.userId], train.rating, epochs=5)\n",
        "    model.save('recommender_model.h5')\n",
        "    plt.plot(his.history['loss'])\n",
        "    plt.xlabel(\"Epochs\")\n",
        "    plt.ylabel(\"Training Error\")"
      ],
      "execution_count": null,
      "outputs": [
        {
          "output_type": "stream",
          "text": [
            "/usr/local/lib/python3.6/dist-packages/tensorflow/python/framework/indexed_slices.py:434: UserWarning: Converting sparse IndexedSlices to a dense Tensor of unknown shape. This may consume a large amount of memory.\n",
            "  \"Converting sparse IndexedSlices to a dense Tensor of unknown shape. \"\n"
          ],
          "name": "stderr"
        },
        {
          "output_type": "stream",
          "text": [
            "Epoch 1/5\n",
            "8000/8000 [==============================] - 3s 418us/step - loss: 6.4886\n",
            "Epoch 2/5\n",
            "8000/8000 [==============================] - 3s 359us/step - loss: 2.0417\n",
            "Epoch 3/5\n",
            "8000/8000 [==============================] - 3s 360us/step - loss: 2.0052\n",
            "Epoch 4/5\n",
            "8000/8000 [==============================] - 3s 358us/step - loss: 1.9252\n",
            "Epoch 5/5\n",
            "8000/8000 [==============================] - 3s 351us/step - loss: 1.8145\n"
          ],
          "name": "stdout"
        },
        {
          "output_type": "display_data",
          "data": {
            "image/png": "[encoded data removed]",
            "text/plain": [
              "<Figure size 432x288 with 1 Axes>"
            ]
          },
          "metadata": {
            "tags": [],
            "needs_background": "light"
          }
        }
      ]
    },
    {
      "cell_type": "code",
      "metadata": {
        "id": "xdAxvVEw2J5z",
        "colab_type": "code",
        "colab": {
          "base_uri": "https://localhost:8080/",
          "height": 51
        },
        "outputId": "cc8866bb-9183-490e-8872-c3a8a3a7569f"
      },
      "source": [
        "model.evaluate([test.movieId,test.userId], test.rating)\n"
      ],
      "execution_count": null,
      "outputs": [
        {
          "output_type": "stream",
          "text": [
            "2000/2000 [==============================] - 0s 30us/step\n"
          ],
          "name": "stdout"
        },
        {
          "output_type": "execute_result",
          "data": {
            "text/plain": [
              "1.1910011582374573"
            ]
          },
          "metadata": {
            "tags": []
          },
          "execution_count": 14
        }
      ]
    },
    {
      "cell_type": "code",
      "metadata": {
        "id": "hEkShdUE3HJj",
        "colab_type": "code",
        "colab": {
          "base_uri": "https://localhost:8080/",
          "height": 357
        },
        "outputId": "62bccb31-abf5-46e9-acc6-134f351d8afa"
      },
      "source": [
        "predictions = model.predict([test.movieId.head(10),test.userId.head(10)])\n",
        "for i in range(10):\n",
        "  print('Predicted ratings',predictions[i])\n",
        "  print('Actual ratings',test.rating.iloc[i])"
      ],
      "execution_count": null,
      "outputs": [
        {
          "output_type": "stream",
          "text": [
            "Predicted ratings [3.0458627]\n",
            "Actual ratings 4.5\n",
            "Predicted ratings [3.0316334]\n",
            "Actual ratings 4.0\n",
            "Predicted ratings [2.9401164]\n",
            "Actual ratings 3.0\n",
            "Predicted ratings [2.8231902]\n",
            "Actual ratings 4.0\n",
            "Predicted ratings [3.2031922]\n",
            "Actual ratings 2.0\n",
            "Predicted ratings [3.1273105]\n",
            "Actual ratings 5.0\n",
            "Predicted ratings [3.6207738]\n",
            "Actual ratings 4.0\n",
            "Predicted ratings [3.0001912]\n",
            "Actual ratings 5.0\n",
            "Predicted ratings [3.113244]\n",
            "Actual ratings 3.0\n",
            "Predicted ratings [3.1234255]\n",
            "Actual ratings 4.5\n"
          ],
          "name": "stdout"
        }
      ]
    },
    {
      "cell_type": "code",
      "metadata": {
        "id": "uMxUG7jNH65q",
        "colab_type": "code",
        "colab": {
          "base_uri": "https://localhost:8080/",
          "height": 119
        },
        "outputId": "1dd292b8-f2cd-4978-d771-4f6103bda7e2"
      },
      "source": [
        "# Extract embeddings\n",
        "movie_emb = model.get_layer('movie-embedding')\n",
        "movie_weights = movie_emb.get_weights()[0]\n",
        "movie_weights[:5]"
      ],
      "execution_count": null,
      "outputs": [
        {
          "output_type": "execute_result",
          "data": {
            "text/plain": [
              "array([[-0.02816255, -0.04737374, -0.0377884 ,  0.02045107,  0.01303465],\n",
              "       [-0.483418  ,  0.38071084,  0.49641317, -0.4176225 ,  0.14854543],\n",
              "       [-0.15826337,  0.20395742,  0.3026877 , -0.2151654 ,  0.12527268],\n",
              "       [-0.28392646,  0.22340849,  0.27802217, -0.15719907,  0.22286053],\n",
              "       [-0.10309891,  0.03190279,  0.10115959, -0.09988984, -0.00818213]],\n",
              "      dtype=float32)"
            ]
          },
          "metadata": {
            "tags": []
          },
          "execution_count": 55
        }
      ]
    },
    {
      "cell_type": "code",
      "metadata": {
        "id": "zzlLQM5HJYAz",
        "colab_type": "code",
        "colab": {
          "base_uri": "https://localhost:8080/",
          "height": 34
        },
        "outputId": "3fa1dcd1-39b3-4568-e4d5-5f9cdc089574"
      },
      "source": [
        "# Creating user and movies for recommendation\n",
        "movies = np.array(list(set(ratings.movieId)))\n",
        "\n",
        "user=[]\n",
        "for i in range(len(movies)):\n",
        "  user.append(1)\n",
        "user=np.array(user)\n",
        "predictions = model.predict([movies,user])"
      ],
      "execution_count": null,
      "outputs": [
        {
          "output_type": "stream",
          "text": [
            "[     1 122882      3 ... 106487 106489 106491]\n"
          ],
          "name": "stdout"
        }
      ]
    },
    {
      "cell_type": "code",
      "metadata": {
        "id": "Ct4Y-B33P_WO",
        "colab_type": "code",
        "colab": {
          "base_uri": "https://localhost:8080/",
          "height": 187
        },
        "outputId": "73167253-c701-46a4-da7f-8a519248c129"
      },
      "source": [
        "# recommended top 5 movies are\n",
        "pre_idx=predictions.argsort(axis=0)[::-1][:5]\n",
        "for x in pre_idx:\n",
        "    print(mov[mov.movieId==x[0]]['title'])\n",
        "\n"
      ],
      "execution_count": null,
      "outputs": [
        {
          "output_type": "stream",
          "text": [
            "219    Jerky Boys, The (1995)\n",
            "Name: title, dtype: object\n",
            "406    Englishman Who Went Up a Hill But Came Down a ...\n",
            "Name: title, dtype: object\n",
            "202    French Kiss (1995)\n",
            "Name: title, dtype: object\n",
            "175    Walk in the Clouds, A (1995)\n",
            "Name: title, dtype: object\n",
            "637    Kazaam (1996)\n",
            "Name: title, dtype: object\n"
          ],
          "name": "stdout"
        }
      ]
    }
  ]
}